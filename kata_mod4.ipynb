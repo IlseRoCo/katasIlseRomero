{
 "cells": [
  {
   "cell_type": "markdown",
   "metadata": {},
   "source": []
  },
  {
   "cell_type": "code",
   "execution_count": 15,
   "metadata": {},
   "outputs": [
    {
     "data": {
      "text/plain": [
       "['Daylight: 206 F', 'Nightime: -280 F']"
      ]
     },
     "execution_count": 15,
     "metadata": {},
     "output_type": "execute_result"
    }
   ],
   "source": [
    "fact = 'The Moon has no atmosphere. '\n",
    "fact + 'No sound can be heard on the Moon.'\n",
    "\n",
    "\"temperatures and facts about the moon\".title()\n",
    "\n",
    "two_facts= fact + \"temperatures and facts about the moon\"\n",
    "two_facts.title()\n",
    "\n",
    "heading=\"temperatures and facts about the moon\"\n",
    "heading.title()\n",
    "\n",
    "temperatures= '''Daylight: 206 F\n",
    "Nightime: -280 F'''\n",
    "temperatures.split()\n",
    "temperatures.split('\\n')\n",
    "\n"
   ]
  },
  {
   "cell_type": "code",
   "execution_count": 19,
   "metadata": {},
   "outputs": [
    {
     "data": {
      "text/plain": [
       "0"
      ]
     },
     "execution_count": 19,
     "metadata": {},
     "output_type": "execute_result"
    }
   ],
   "source": [
    "temperatures=\"\"\"Saturn has a daytime temperature of -170 degrees Celsius,\n",
    "while Mars has -28 Celsius.\"\"\"\n",
    "\n",
    "temperatures.find('Moon')\n",
    "temperatures.find('Mars')\n",
    "temperatures.count('Mars')\n",
    "temperatures.count('Moon')"
   ]
  },
  {
   "cell_type": "code",
   "execution_count": 21,
   "metadata": {},
   "outputs": [
    {
     "data": {
      "text/plain": [
       "'the moon and the earth'"
      ]
     },
     "execution_count": 21,
     "metadata": {},
     "output_type": "execute_result"
    }
   ],
   "source": [
    "\"The Moon And The Earth\".upper()\n",
    "\n",
    "\"The Moon And The Earth\".lower()"
   ]
  },
  {
   "cell_type": "code",
   "execution_count": 24,
   "metadata": {},
   "outputs": [
    {
     "data": {
      "text/plain": [
       "' -60 C'"
      ]
     },
     "execution_count": 24,
     "metadata": {},
     "output_type": "execute_result"
    }
   ],
   "source": [
    "temperatures= 'Mars Average Temperature: -60 C'\n",
    "\n",
    "parts= temperatures.split(':')\n",
    "parts\n",
    "parts[-1]"
   ]
  },
  {
   "cell_type": "code",
   "execution_count": 25,
   "metadata": {},
   "outputs": [
    {
     "name": "stdout",
     "output_type": "stream",
     "text": [
      "30\n"
     ]
    }
   ],
   "source": [
    "mars_temperature= 'The highest temperature on Mars is about 30 C'\n",
    "\n",
    "for item in mars_temperature.split():\n",
    "    if item.isnumeric():\n",
    "        print(item)"
   ]
  },
  {
   "cell_type": "code",
   "execution_count": 29,
   "metadata": {},
   "outputs": [
    {
     "data": {
      "text/plain": [
       "'Saturn has a daytime temperature of -170 degrees Celsius.\\n Mars has -28 Celsius.'"
      ]
     },
     "execution_count": 29,
     "metadata": {},
     "output_type": "execute_result"
    }
   ],
   "source": [
    "\"Saturn has a daytime temperature of -170 degrees Celsius, while Mars has -28 Celsius.\".replace('Celsius','C')\n",
    "\n",
    "facts= [\"Saturn has a daytime temperature of -170 degrees Celsius.\",  ' Mars has -28 Celsius.']\n",
    "'\\n'.join(facts)"
   ]
  }
 ],
 "metadata": {
  "interpreter": {
   "hash": "c76357b39746907dcfab5c2053a7df8f09dbc140f042cc234f3ad5a5666475cc"
  },
  "kernelspec": {
   "display_name": "Python 3.10.0 64-bit",
   "language": "python",
   "name": "python3"
  },
  "language_info": {
   "codemirror_mode": {
    "name": "ipython",
    "version": 3
   },
   "file_extension": ".py",
   "mimetype": "text/x-python",
   "name": "python",
   "nbconvert_exporter": "python",
   "pygments_lexer": "ipython3",
   "version": "3.10.0"
  },
  "orig_nbformat": 4
 },
 "nbformat": 4,
 "nbformat_minor": 2
}
