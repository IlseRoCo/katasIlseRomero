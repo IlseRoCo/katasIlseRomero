{
 "cells": [
  {
   "cell_type": "markdown",
   "metadata": {},
   "source": [
    "## Ejercicio - Escribir declaraciones if, else y elif\n",
    "Ejercicio Asteroide"
   ]
  },
  {
   "cell_type": "code",
   "execution_count": 4,
   "metadata": {},
   "outputs": [
    {
     "name": "stdout",
     "output_type": "stream",
     "text": [
      "¡El asteroide se acerca demasido rápido!, velocidad: 49 km/s\n"
     ]
    }
   ],
   "source": [
    "velAster = 49\n",
    "velAdvert= 25\n",
    "\n",
    "if velAster >= velAdvert:\n",
    "    print(\"¡El asteroide se acerca demasido rápido!, velocidad: \" + str(velAster) + \" km/s\")\n",
    "else:\n",
    "    print(\"El asteroide se acerca a velocidad normal, velocidad: \" + str(velAster) + \" km/s\")\n"
   ]
  },
  {
   "cell_type": "code",
   "execution_count": 8,
   "metadata": {},
   "outputs": [
    {
     "name": "stdout",
     "output_type": "stream",
     "text": [
      "¡Observa el cielo! Ese rayo de luz es un asteroide :D\n"
     ]
    }
   ],
   "source": [
    "velAster = 19 #20 , 50\n",
    "velAdvert= 20\n",
    "\n",
    "if velAster > velAdvert:\n",
    "    print(\"¡Observa el cielo! Ese rayo de luz es un asteroide\")\n",
    "elif velAster == velAdvert:\n",
    "    print(\"¡Observa el cielo! Ese rayo de luz es un asteroide :D\")\n",
    "else:\n",
    "    print(\"No hay asteroides por observar :)\")\n"
   ]
  },
  {
   "cell_type": "markdown",
   "metadata": {},
   "source": [
    "## Ejercicio - Uso de operadores and y or\n",
    "Mejora advertencia Asteroide"
   ]
  },
  {
   "cell_type": "code",
   "execution_count": 14,
   "metadata": {},
   "outputs": [
    {
     "name": "stdout",
     "output_type": "stream",
     "text": [
      "¡Mira esa luz en el cielo, es un asteroide!\n"
     ]
    }
   ],
   "source": [
    "tamAsteroide = 500\n",
    "iniTamAster = 25\n",
    "finTamAster = 1000\n",
    "velAster = 20\n",
    "velAdvert = 25\n",
    "velRayo = 20\n",
    "\n",
    "if tamAsteroide > iniTamAster and tamAsteroide < finTamAster and  velAster > velAdvert:\n",
    "    print(\"¡Cuidado, se acerca un asteroide muy grande a gran velocidad!\")\n",
    "elif velAster >= velRayo:\n",
    "    print(\"¡Mira esa luz en el cielo, es un asteroide!\")    \n",
    "else:\n",
    "    print(\"¡Todo OK :D!\")    "
   ]
  }
 ],
 "metadata": {
  "interpreter": {
   "hash": "c76357b39746907dcfab5c2053a7df8f09dbc140f042cc234f3ad5a5666475cc"
  },
  "kernelspec": {
   "display_name": "Python 3.10.0 64-bit",
   "language": "python",
   "name": "python3"
  },
  "language_info": {
   "codemirror_mode": {
    "name": "ipython",
    "version": 3
   },
   "file_extension": ".py",
   "mimetype": "text/x-python",
   "name": "python",
   "nbconvert_exporter": "python",
   "pygments_lexer": "ipython3",
   "version": "3.10.0"
  },
  "orig_nbformat": 4
 },
 "nbformat": 4,
 "nbformat_minor": 2
}
