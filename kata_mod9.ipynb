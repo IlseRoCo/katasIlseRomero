{
 "cells": [
  {
   "cell_type": "markdown",
   "metadata": {},
   "source": [
    "## Ejercicio 1: Uso de funciones en Python\n",
    "Trabajar con argumentos de funciones"
   ]
  },
  {
   "cell_type": "code",
   "execution_count": 11,
   "metadata": {},
   "outputs": [
    {
     "name": "stdout",
     "output_type": "stream",
     "text": [
      "            Informe Combustible \n",
      "    ~~~~~~~~~~~~~~~~~~~~~~~~~~~~~~~~~~~\n",
      "       Promedio: 58.333333333333336%\n",
      "       Tanque 1: 100%\n",
      "       Tanque 2: 25%\n",
      "       Tanque 3: 50%\n",
      "     \n"
     ]
    }
   ],
   "source": [
    "def combustible(tanque1, tanque2, tanque3):\n",
    "    prom = (tanque1 + tanque2 + tanque3) / 3\n",
    "    titulo= \"            INFORME COMBUSTIBLE\"\n",
    "\n",
    "    datos= f\"\"\"{'~'*35}\n",
    "       Promedio: {prom}%\n",
    "       Tanque 1: {tanque1}%\n",
    "       Tanque 2: {tanque2}%\n",
    "       Tanque 3: {tanque3}%\n",
    "    \"\"\"\n",
    "\n",
    "    plantilla= f\"\"\"{titulo.title()} \n",
    "    {datos} \"\"\"\n",
    "\n",
    "    return plantilla\n",
    "\n",
    "print(combustible(100,25,50))\n"
   ]
  },
  {
   "cell_type": "code",
   "execution_count": 13,
   "metadata": {},
   "outputs": [
    {
     "name": "stdout",
     "output_type": "stream",
     "text": [
      "            Informe Combustible \n",
      "    ~~~~~~~~~~~~~~~~~~~~~~~~~~~~~~~~~~~\n",
      "       Promedio: 58.333333333333336%\n",
      "       Tanque 1: 100%\n",
      "       Tanque 2: 25%\n",
      "       Tanque 3: 50%\n",
      "     \n"
     ]
    }
   ],
   "source": [
    "def promedio(val_tanque):\n",
    "    total= sum(val_tanque)\n",
    "    tot_tanque= len(val_tanque)\n",
    "    return total / tot_tanque\n",
    "\n",
    "def combustible(tanque1, tanque2, tanque3):\n",
    "    prom = (tanque1 + tanque2 + tanque3) / 3\n",
    "    titulo= \"            INFORME COMBUSTIBLE\"\n",
    "\n",
    "    datos= f\"\"\"{'~'*35}\n",
    "       Promedio: {promedio([100,25,50])}%\n",
    "       Tanque 1: {tanque1}%\n",
    "       Tanque 2: {tanque2}%\n",
    "       Tanque 3: {tanque3}%\n",
    "    \"\"\"\n",
    "\n",
    "    plantilla= f\"\"\"{titulo.title()} \n",
    "    {datos} \"\"\"\n",
    "\n",
    "    return plantilla\n",
    "\n",
    "print(combustible(100,25,50))"
   ]
  },
  {
   "cell_type": "markdown",
   "metadata": {},
   "source": [
    "## Ejercicio 2: Trabajo con argumentos de palabra clave\n",
    "Trabajar con argumentos de palabras clave en funciones"
   ]
  },
  {
   "cell_type": "code",
   "execution_count": 21,
   "metadata": {},
   "outputs": [
    {
     "name": "stdout",
     "output_type": "stream",
     "text": [
      "                Informe Misión \n",
      "    ~~~~~~~~~~~~~~~~~~~~~~~~~~~~~~~~~~~~~\n",
      "      Destino: Marte\n",
      "      Tiempo de viaje: 80 minutos\n",
      "      Total combustible: 250000 galones\n",
      "     \n"
     ]
    }
   ],
   "source": [
    "def informe_mision(prelanzamiento, tiempo_vuelo, destino, tanque1, tanque2):\n",
    "    tiempo_tot = prelanzamiento + tiempo_vuelo\n",
    "    comb_tot = tanque1 + tanque2\n",
    "    titulo= \"                INFORME MISIÓN\"\n",
    "\n",
    "    datos= f\"\"\"{'~'*37}\n",
    "      Destino: {destino}\n",
    "      Tiempo de viaje: {tiempo_tot} minutos\n",
    "      Total combustible: {comb_tot} galones\n",
    "    \"\"\"\n",
    "\n",
    "    plantilla= f\"\"\"{titulo.title()} \n",
    "    {datos} \"\"\"\n",
    "\n",
    "    return plantilla\n",
    "\n",
    "print(informe_mision(20,60,\"Marte\",50000,200000))"
   ]
  },
  {
   "cell_type": "code",
   "execution_count": 24,
   "metadata": {},
   "outputs": [
    {
     "name": "stdout",
     "output_type": "stream",
     "text": [
      "                Informe Misión \n",
      "    ~~~~~~~~~~~~~~~~~~~~~~~~~~~~~~~~~~~~~\n",
      "      Destino: Marte\n",
      "      Tiempo de viaje: 80 minutos\n",
      "      Total combustible: 250000 galones\n",
      "     \n"
     ]
    }
   ],
   "source": [
    "def informe_mision2( destino, *tiempo, **combust):\n",
    "    titulo= \"                INFORME MISIÓN\"\n",
    "\n",
    "    datos= f\"\"\"{'~'*37}\n",
    "      Destino: {destino}\n",
    "      Tiempo de viaje: {sum(tiempo)} minutos\n",
    "      Total combustible: {sum(combust.values())} galones\n",
    "    \"\"\"\n",
    "\n",
    "    plantilla= f\"\"\"{titulo.title()} \n",
    "    {datos} \"\"\"\n",
    "\n",
    "    return plantilla\n",
    "\n",
    "print(informe_mision2(\"Marte\",20,60,tanque1=50000,tanque2=200000))"
   ]
  },
  {
   "cell_type": "code",
   "execution_count": 28,
   "metadata": {},
   "outputs": [
    {
     "name": "stdout",
     "output_type": "stream",
     "text": [
      "                Informe Misión \n",
      "    ~~~~~~~~~~~~~~~~~~~~~~~~~~~~~~~~~~~~~\n",
      "      Destino: Marte\n",
      "      Tiempo de viaje: 80 minutos\n",
      "      Total combustible: 250000 galones\n",
      "      Tanque1 --> 50000 galones \n",
      "      Tanque2 --> 200000 galones \n",
      "     \n"
     ]
    }
   ],
   "source": [
    "def informe_mision3( destino, *tiempo, **combust):\n",
    "    titulo= \"                INFORME MISIÓN\"\n",
    "\n",
    "    datos= f\"\"\"{'~'*37}\n",
    "      Destino: {destino}\n",
    "      Tiempo de viaje: {sum(tiempo)} minutos\n",
    "      Total combustible: {sum(combust.values())} galones\n",
    "    \"\"\"\n",
    "\n",
    "    plantilla= f\"\"\"{titulo.title()} \n",
    "    {datos} \"\"\"\n",
    "\n",
    "    for item, item2 in combust.items():\n",
    "        plantilla += f\" {item} --> {item2} galones \\n     \"\n",
    "\n",
    "    return plantilla\n",
    "\n",
    "print(informe_mision3(\"Marte\",20,60,Tanque1=50000,Tanque2=200000))"
   ]
  }
 ],
 "metadata": {
  "interpreter": {
   "hash": "c76357b39746907dcfab5c2053a7df8f09dbc140f042cc234f3ad5a5666475cc"
  },
  "kernelspec": {
   "display_name": "Python 3.10.0 64-bit",
   "language": "python",
   "name": "python3"
  },
  "language_info": {
   "codemirror_mode": {
    "name": "ipython",
    "version": 3
   },
   "file_extension": ".py",
   "mimetype": "text/x-python",
   "name": "python",
   "nbconvert_exporter": "python",
   "pygments_lexer": "ipython3",
   "version": "3.10.0"
  },
  "orig_nbformat": 4
 },
 "nbformat": 4,
 "nbformat_minor": 2
}
