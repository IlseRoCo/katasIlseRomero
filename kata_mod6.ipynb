{
 "cells": [
  {
   "cell_type": "markdown",
   "metadata": {},
   "source": [
    "## Ejercicio 1: Crear y usar listas de Python\n",
    "Usar listas para almacenar nombres de planetas"
   ]
  },
  {
   "cell_type": "code",
   "execution_count": 12,
   "metadata": {},
   "outputs": [
    {
     "name": "stdout",
     "output_type": "stream",
     "text": [
      "El total de planetas es 9 y el último es Plutón\n"
     ]
    }
   ],
   "source": [
    "planetas= ['Mercurio', 'Venus', 'Tierra', 'Marte', 'Júpiter', 'Saturno', 'Urano','Neptuno']\n",
    "\n",
    "planetas.append('Plutón')\n",
    "\n",
    "numPlanetas= len(planetas)\n",
    "ultPlaneta= planetas[numPlanetas-1]\n",
    "mensaje= f\"\"\"El total de planetas es {str(numPlanetas)} y el último es {ultPlaneta}\"\"\"\n",
    "\n",
    "print(mensaje)"
   ]
  },
  {
   "cell_type": "markdown",
   "metadata": {},
   "source": [
    "## Ejercicio 2: Trabajando con datos de una lista\n",
    "Mostrar planetas más cerca y más lejos del sol, de un planeta ingresado por teclado"
   ]
  },
  {
   "cell_type": "code",
   "execution_count": 17,
   "metadata": {},
   "outputs": [
    {
     "name": "stdout",
     "output_type": "stream",
     "text": [
      "Planetas más cercanos al sol que Saturno: \n",
      "Mercurio\n",
      "Venus\n",
      "Tierra\n",
      "Marte\n",
      "Júpiter\n",
      "Planetas más lejanos al sol que Saturno: \n",
      "Urano\n",
      "Neptuno\n"
     ]
    }
   ],
   "source": [
    "planetas= ['Mercurio', 'Venus', 'Tierra', 'Marte', 'Júpiter', 'Saturno', 'Urano','Neptuno']\n",
    "planeta1= input(\"Ingrese el nombre del planeta (coloque la primer letra en mayúscula): \")\n",
    "\n",
    "numPlanetas= len(planetas)\n",
    "posPlanet= planetas.index(planeta1)\n",
    "\n",
    "print(\"Planetas más cercanos al sol que \"+ planeta1 +\": \")\n",
    "for item in range(posPlanet):\n",
    "   print(planetas[item])\n",
    "\n",
    "print(\"Planetas más lejanos al sol que \"+ planeta1 +\": \")\n",
    "for item in range(posPlanet+1, numPlanetas):\n",
    "   print(planetas[item])"
   ]
  }
 ],
 "metadata": {
  "interpreter": {
   "hash": "c76357b39746907dcfab5c2053a7df8f09dbc140f042cc234f3ad5a5666475cc"
  },
  "kernelspec": {
   "display_name": "Python 3.10.0 64-bit",
   "language": "python",
   "name": "python3"
  },
  "language_info": {
   "codemirror_mode": {
    "name": "ipython",
    "version": 3
   },
   "file_extension": ".py",
   "mimetype": "text/x-python",
   "name": "python",
   "nbconvert_exporter": "python",
   "pygments_lexer": "ipython3",
   "version": "3.10.0"
  },
  "orig_nbformat": 4
 },
 "nbformat": 4,
 "nbformat_minor": 2
}
