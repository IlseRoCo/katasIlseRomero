{
 "cells": [
  {
   "cell_type": "markdown",
   "metadata": {},
   "source": [
    "## Ejercicio 1: Utilizar operadores aritméticos\n",
    "Distancia entre dos planetas"
   ]
  },
  {
   "cell_type": "code",
   "execution_count": 3,
   "metadata": {},
   "outputs": [
    {
     "name": "stdout",
     "output_type": "stream",
     "text": [
      "La distancia entre Júpiter y Tierra es: 628949330\n"
     ]
    }
   ],
   "source": [
    "planeta1= \"Tierra\"\n",
    "planeta2= \"Júpiter\"\n",
    "\n",
    "disPlaneta1= 149597870\n",
    "disPlaneta2= 778547200\n",
    "\n",
    "distancia= disPlaneta2 - disPlaneta1\n",
    "mensaje= f\"La distancia entre {planeta2} y {planeta1} es: {str(distancia)}\"\n",
    "\n",
    "print(mensaje)\n"
   ]
  },
  {
   "cell_type": "code",
   "execution_count": 6,
   "metadata": {},
   "outputs": [
    {
     "name": "stdout",
     "output_type": "stream",
     "text": [
      "La distancia entre Júpiter y Tierra es: 390577534\n"
     ]
    }
   ],
   "source": [
    "from math import ceil, floor\n",
    "\n",
    "planeta1= \"Tierra\"\n",
    "planeta2= \"Júpiter\"\n",
    "\n",
    "disPlaneta1= 149597870\n",
    "disPlaneta2= 778547200\n",
    "\n",
    "distancia= ceil((disPlaneta2 - disPlaneta1) * 0.621)\n",
    "mensaje= f\"La distancia entre {planeta2} y {planeta1} es: {str(distancia)}\"\n",
    "\n",
    "print(mensaje)"
   ]
  },
  {
   "cell_type": "markdown",
   "metadata": {},
   "source": [
    "## Ejercicio 2: Convierte cadenas en números y valores absolutos\n",
    "Aplicación para trabajar con números y entrada de usuario"
   ]
  },
  {
   "cell_type": "code",
   "execution_count": 7,
   "metadata": {},
   "outputs": [
    {
     "name": "stdout",
     "output_type": "stream",
     "text": [
      "La distancia entre los planetas es: 31236300.0\n"
     ]
    }
   ],
   "source": [
    "planeta1= input(\"Ingrese la distancia del primer planeta: \")\n",
    "planeta2= input(\"Ingrese la distancia del segundo planeta: \")\n",
    "\n",
    "disPlaneta1= int(planeta1)\n",
    "disPlaneta2= int(planeta2)\n",
    "\n",
    "distancia= abs((disPlaneta2 - disPlaneta1) * 0.621)\n",
    "mensaje= f\"La diferencia entre distancias de los planetas es: {str(distancia)}\"\n",
    "\n",
    "print(mensaje)"
   ]
  }
 ],
 "metadata": {
  "interpreter": {
   "hash": "c76357b39746907dcfab5c2053a7df8f09dbc140f042cc234f3ad5a5666475cc"
  },
  "kernelspec": {
   "display_name": "Python 3.10.0 64-bit",
   "language": "python",
   "name": "python3"
  },
  "language_info": {
   "codemirror_mode": {
    "name": "ipython",
    "version": 3
   },
   "file_extension": ".py",
   "mimetype": "text/x-python",
   "name": "python",
   "nbconvert_exporter": "python",
   "pygments_lexer": "ipython3",
   "version": "3.10.0"
  },
  "orig_nbformat": 4
 },
 "nbformat": 4,
 "nbformat_minor": 2
}
