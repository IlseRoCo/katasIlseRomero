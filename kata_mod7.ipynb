{
 "cells": [
  {
   "cell_type": "markdown",
   "metadata": {},
   "source": [
    "## Ejercicio 1: Creación de un bucle \"while\"\n",
    "Uso de cliclos while en Python"
   ]
  },
  {
   "cell_type": "code",
   "execution_count": 6,
   "metadata": {},
   "outputs": [],
   "source": [
    "planetas= []#'Mercurio', 'Venus', 'Tierra', 'Marte', 'Júpiter', 'Saturno', 'Urano','Neptuno']\n",
    "\n",
    "planeta_nuevo= ''\n",
    "\n",
    "while planeta_nuevo.upper() != 'FIN':\n",
    "    planeta_nuevo= input(\"Ingrese el nombre del planeta, o FIN para finalizar: \")\n",
    "    if planeta_nuevo:\n",
    "        planetas.append(planeta_nuevo)\n"
   ]
  },
  {
   "cell_type": "markdown",
   "metadata": {},
   "source": [
    "## Ejercicio 2: Creación de un ciclo \"for\"\n",
    "Ciclo para una lista"
   ]
  },
  {
   "cell_type": "code",
   "execution_count": 7,
   "metadata": {},
   "outputs": [
    {
     "name": "stdout",
     "output_type": "stream",
     "text": [
      "MERCURIO\n",
      "VENUS\n",
      "TIERRA\n",
      "MARTE\n",
      "JÚPITER\n",
      "SATURNO\n",
      "URANO\n",
      "NEPTUNO\n",
      "FIN\n"
     ]
    }
   ],
   "source": [
    "\n",
    "for planeta in planetas:\n",
    "    print(planeta)"
   ]
  }
 ],
 "metadata": {
  "interpreter": {
   "hash": "c76357b39746907dcfab5c2053a7df8f09dbc140f042cc234f3ad5a5666475cc"
  },
  "kernelspec": {
   "display_name": "Python 3.10.0 64-bit",
   "language": "python",
   "name": "python3"
  },
  "language_info": {
   "codemirror_mode": {
    "name": "ipython",
    "version": 3
   },
   "file_extension": ".py",
   "mimetype": "text/x-python",
   "name": "python",
   "nbconvert_exporter": "python",
   "pygments_lexer": "ipython3",
   "version": "3.10.0"
  },
  "orig_nbformat": 4
 },
 "nbformat": 4,
 "nbformat_minor": 2
}
