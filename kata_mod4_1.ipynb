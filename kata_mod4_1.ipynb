{
 "cells": [
  {
   "cell_type": "markdown",
   "metadata": {},
   "source": [
    "## Ejercicio 1: Transformar cadenas"
   ]
  },
  {
   "cell_type": "code",
   "execution_count": 8,
   "metadata": {},
   "outputs": [
    {
     "name": "stdout",
     "output_type": "stream",
     "text": [
      "\n",
      "On average, the Moon moves 4cm away from the Earth every year\n",
      " The highest daylight temperature of the Moon is 127 C\n"
     ]
    }
   ],
   "source": [
    "texto = \"\"\"Interesting facts about the Moon. The Moon is Earth's only satellite. There are several interesting facts about the Moon and how it affects life here on Earth.\n",
    "On average, the Moon moves 4cm away from the Earth every year. This yearly drift is not significant enough to cause immediate effects on Earth. The highest daylight temperature of the Moon is 127 C.\"\"\"\n",
    "texto_part= text.split('.')\n",
    "\n",
    "claves = [\"average\", \"temperature\", \"distance\"]\n",
    "\n",
    "for parte in texto_part:\n",
    "    for clave in claves:\n",
    "        if clave in parte:\n",
    "            print(parte)"
   ]
  },
  {
   "cell_type": "code",
   "execution_count": 9,
   "metadata": {},
   "outputs": [
    {
     "name": "stdout",
     "output_type": "stream",
     "text": [
      "\n",
      "On average, the Moon moves 4cm away from the Earth every year\n",
      " The highest daylight temperature of the Moon is 127 Celsius\n"
     ]
    }
   ],
   "source": [
    "texto = \"\"\"Interesting facts about the Moon. The Moon is Earth's only satellite. There are several interesting facts about the Moon and how it affects life here on Earth.\n",
    "On average, the Moon moves 4cm away from the Earth every year. This yearly drift is not significant enough to cause immediate effects on Earth. The highest daylight temperature of the Moon is 127 C.\"\"\"\n",
    "texto_part= text.split('.')\n",
    "\n",
    "claves = [\"average\", \"temperature\", \"distance\"]\n",
    "\n",
    "for parte in texto_part:\n",
    "    for clave in claves:\n",
    "        if clave in parte:\n",
    "            print(parte.replace(' C', ' Celsius'))"
   ]
  },
  {
   "cell_type": "markdown",
   "metadata": {},
   "source": [
    "## Ejercicio 2: Formateando Cadenas"
   ]
  },
  {
   "cell_type": "code",
   "execution_count": 9,
   "metadata": {},
   "outputs": [
    {
     "name": "stdout",
     "output_type": "stream",
     "text": [
      "La Gravedad En Tierra Y Luna \n",
      "~~~~~~~~~~~~~~~~~~~~~~~~~~~~~~~~~~~~~~~~\n",
      "Planeta: Tierra\n",
      "Gravedad en Luna: 1.6199999999999999 m/s2\n",
      " \n"
     ]
    }
   ],
   "source": [
    "luna= \"Luna\"\n",
    "gravedad= 0.00162\n",
    "gravedad = gravedad * 1000\n",
    "planeta= \"Tierra\"\n",
    "\n",
    "titulo= f\"La gravedad en {planeta} y {luna}\"\n",
    "\n",
    "datos= f\"\"\"{'~'*40}\n",
    "Planeta: {planeta}\n",
    "Gravedad en {luna}: {gravedad} m/s2\n",
    "\"\"\"\n",
    "\n",
    "plantilla= f\"\"\"{titulo.title()} \n",
    "{datos} \"\"\"\n",
    "\n",
    "print(plantilla)"
   ]
  },
  {
   "cell_type": "code",
   "execution_count": 11,
   "metadata": {},
   "outputs": [
    {
     "name": "stdout",
     "output_type": "stream",
     "text": [
      "La Gravedad En Marte Y Deimos \n",
      "~~~~~~~~~~~~~~~~~~~~~~~~~~~~~~~~~~~~~~~~\n",
      "Planeta: Marte\n",
      "Gravedad en Deimos: 1.4300000000000002 m/s2\n",
      " \n"
     ]
    }
   ],
   "source": [
    "luna= \"Deimos\"\n",
    "gravedad= 0.00143\n",
    "gravedad = gravedad * 1000\n",
    "planeta= \"Marte\"\n",
    "\n",
    "titulo= f\"La gravedad en {planeta} y {luna}\"\n",
    "\n",
    "datos= f\"\"\"{'~'*40}\n",
    "Planeta: {planeta}\n",
    "Gravedad en {luna}: {gravedad} m/s2\n",
    "\"\"\"\n",
    "\n",
    "plantilla= f\"\"\"{titulo.title()} \n",
    "{datos} \"\"\"\n",
    "\n",
    "print(plantilla)"
   ]
  },
  {
   "cell_type": "code",
   "execution_count": 26,
   "metadata": {},
   "outputs": [
    {
     "name": "stdout",
     "output_type": "stream",
     "text": [
      "       La Gravedad En Marte Y Deimos\n",
      "~~~~~~~~~~~~~~~~~~~~~~~~~~~~~~~~~~~~~~~~~~~~~\n",
      "Planeta: Marte\n",
      "Gravedad en Deimos: 1.4300000000000002 m/s2\n",
      "\n"
     ]
    }
   ],
   "source": [
    "\n",
    "luna= \"Deimos\"\n",
    "gravedad= 0.00143\n",
    "gravedad = gravedad * 1000\n",
    "planeta= \"Marte\"\n",
    "\n",
    "titulo= f\"\"\"       La gravedad en {planeta} y {luna}\n",
    "{'~'*45}\"\"\".title()\n",
    "\n",
    "datos= titulo + \"\"\"\n",
    "Planeta: {planeta}\n",
    "Gravedad en {luna}: {gravedad} m/s2\n",
    "\"\"\"\n",
    "\n",
    "print(datos.format(planeta=planeta, luna=luna, gravedad=gravedad))"
   ]
  }
 ],
 "metadata": {
  "interpreter": {
   "hash": "c76357b39746907dcfab5c2053a7df8f09dbc140f042cc234f3ad5a5666475cc"
  },
  "kernelspec": {
   "display_name": "Python 3.10.0 64-bit",
   "language": "python",
   "name": "python3"
  },
  "language_info": {
   "codemirror_mode": {
    "name": "ipython",
    "version": 3
   },
   "file_extension": ".py",
   "mimetype": "text/x-python",
   "name": "python",
   "nbconvert_exporter": "python",
   "pygments_lexer": "ipython3",
   "version": "3.10.0"
  },
  "orig_nbformat": 4
 },
 "nbformat": 4,
 "nbformat_minor": 2
}
